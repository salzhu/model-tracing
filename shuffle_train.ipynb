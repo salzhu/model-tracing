{
 "cells": [
  {
   "cell_type": "code",
   "execution_count": 1,
   "id": "decb1f8d-ab8d-4526-b3a8-0019f60f7fd9",
   "metadata": {},
   "outputs": [],
   "source": [
    "import json\n",
    "import matplotlib.pyplot as plt\n",
    "import numpy as np\n",
    "import pandas as pd\n",
    "import scipy"
   ]
  },
  {
   "cell_type": "code",
   "execution_count": 4,
   "id": "fc57855c-c93c-4f50-8829-f62758d6d71d",
   "metadata": {},
   "outputs": [],
   "source": [
    "df = pd.read_csv('Desktop/tinystories_refmodels_34.csv')"
   ]
  },
  {
   "cell_type": "code",
   "execution_count": 5,
   "id": "806af40e-aaee-41df-8220-642c6a23562f",
   "metadata": {},
   "outputs": [
    {
     "data": {
      "text/html": [
       "<div>\n",
       "<style scoped>\n",
       "    .dataframe tbody tr th:only-of-type {\n",
       "        vertical-align: middle;\n",
       "    }\n",
       "\n",
       "    .dataframe tbody tr th {\n",
       "        vertical-align: top;\n",
       "    }\n",
       "\n",
       "    .dataframe thead th {\n",
       "        text-align: right;\n",
       "    }\n",
       "</style>\n",
       "<table border=\"1\" class=\"dataframe\">\n",
       "  <thead>\n",
       "    <tr style=\"text-align: right;\">\n",
       "      <th></th>\n",
       "      <th>Unnamed: 0</th>\n",
       "      <th>order-0</th>\n",
       "      <th>pplx-0</th>\n",
       "      <th>order-1</th>\n",
       "      <th>pplx-1</th>\n",
       "      <th>order-2</th>\n",
       "      <th>pplx-2</th>\n",
       "      <th>order-3</th>\n",
       "      <th>pplx-3</th>\n",
       "    </tr>\n",
       "  </thead>\n",
       "  <tbody>\n",
       "    <tr>\n",
       "      <th>0</th>\n",
       "      <td>0</td>\n",
       "      <td>93278</td>\n",
       "      <td>2.481880</td>\n",
       "      <td>34098</td>\n",
       "      <td>2.488002</td>\n",
       "      <td>59525</td>\n",
       "      <td>2.514908</td>\n",
       "      <td>33563</td>\n",
       "      <td>2.528624</td>\n",
       "    </tr>\n",
       "    <tr>\n",
       "      <th>1</th>\n",
       "      <td>1</td>\n",
       "      <td>32988</td>\n",
       "      <td>2.538718</td>\n",
       "      <td>14592</td>\n",
       "      <td>2.531260</td>\n",
       "      <td>12340</td>\n",
       "      <td>2.537405</td>\n",
       "      <td>33461</td>\n",
       "      <td>2.510631</td>\n",
       "    </tr>\n",
       "    <tr>\n",
       "      <th>2</th>\n",
       "      <td>2</td>\n",
       "      <td>80609</td>\n",
       "      <td>2.841385</td>\n",
       "      <td>61063</td>\n",
       "      <td>2.854401</td>\n",
       "      <td>91750</td>\n",
       "      <td>2.813932</td>\n",
       "      <td>9194</td>\n",
       "      <td>2.875371</td>\n",
       "    </tr>\n",
       "    <tr>\n",
       "      <th>3</th>\n",
       "      <td>3</td>\n",
       "      <td>53093</td>\n",
       "      <td>2.275244</td>\n",
       "      <td>55636</td>\n",
       "      <td>2.229094</td>\n",
       "      <td>40969</td>\n",
       "      <td>2.216276</td>\n",
       "      <td>96441</td>\n",
       "      <td>2.270635</td>\n",
       "    </tr>\n",
       "    <tr>\n",
       "      <th>4</th>\n",
       "      <td>4</td>\n",
       "      <td>43563</td>\n",
       "      <td>2.607047</td>\n",
       "      <td>54301</td>\n",
       "      <td>2.677083</td>\n",
       "      <td>81111</td>\n",
       "      <td>2.545040</td>\n",
       "      <td>50879</td>\n",
       "      <td>2.615653</td>\n",
       "    </tr>\n",
       "    <tr>\n",
       "      <th>...</th>\n",
       "      <td>...</td>\n",
       "      <td>...</td>\n",
       "      <td>...</td>\n",
       "      <td>...</td>\n",
       "      <td>...</td>\n",
       "      <td>...</td>\n",
       "      <td>...</td>\n",
       "      <td>...</td>\n",
       "      <td>...</td>\n",
       "    </tr>\n",
       "    <tr>\n",
       "      <th>99978</th>\n",
       "      <td>99978</td>\n",
       "      <td>69316</td>\n",
       "      <td>3.143414</td>\n",
       "      <td>6706</td>\n",
       "      <td>3.132251</td>\n",
       "      <td>52767</td>\n",
       "      <td>3.144162</td>\n",
       "      <td>48050</td>\n",
       "      <td>3.236818</td>\n",
       "    </tr>\n",
       "    <tr>\n",
       "      <th>99979</th>\n",
       "      <td>99979</td>\n",
       "      <td>4158</td>\n",
       "      <td>3.438086</td>\n",
       "      <td>80203</td>\n",
       "      <td>3.498163</td>\n",
       "      <td>15840</td>\n",
       "      <td>3.395739</td>\n",
       "      <td>9042</td>\n",
       "      <td>3.468969</td>\n",
       "    </tr>\n",
       "    <tr>\n",
       "      <th>99980</th>\n",
       "      <td>99980</td>\n",
       "      <td>37823</td>\n",
       "      <td>2.707923</td>\n",
       "      <td>17093</td>\n",
       "      <td>2.752345</td>\n",
       "      <td>76246</td>\n",
       "      <td>2.732174</td>\n",
       "      <td>77703</td>\n",
       "      <td>2.759684</td>\n",
       "    </tr>\n",
       "    <tr>\n",
       "      <th>99981</th>\n",
       "      <td>99981</td>\n",
       "      <td>49495</td>\n",
       "      <td>2.584986</td>\n",
       "      <td>85651</td>\n",
       "      <td>2.549535</td>\n",
       "      <td>23890</td>\n",
       "      <td>2.606401</td>\n",
       "      <td>36445</td>\n",
       "      <td>2.517845</td>\n",
       "    </tr>\n",
       "    <tr>\n",
       "      <th>99982</th>\n",
       "      <td>99982</td>\n",
       "      <td>95482</td>\n",
       "      <td>2.259774</td>\n",
       "      <td>68206</td>\n",
       "      <td>2.374780</td>\n",
       "      <td>40541</td>\n",
       "      <td>2.292413</td>\n",
       "      <td>91521</td>\n",
       "      <td>2.277551</td>\n",
       "    </tr>\n",
       "  </tbody>\n",
       "</table>\n",
       "<p>99983 rows × 9 columns</p>\n",
       "</div>"
      ],
      "text/plain": [
       "       Unnamed: 0  order-0    pplx-0  order-1    pplx-1  order-2    pplx-2  \\\n",
       "0               0    93278  2.481880    34098  2.488002    59525  2.514908   \n",
       "1               1    32988  2.538718    14592  2.531260    12340  2.537405   \n",
       "2               2    80609  2.841385    61063  2.854401    91750  2.813932   \n",
       "3               3    53093  2.275244    55636  2.229094    40969  2.216276   \n",
       "4               4    43563  2.607047    54301  2.677083    81111  2.545040   \n",
       "...           ...      ...       ...      ...       ...      ...       ...   \n",
       "99978       99978    69316  3.143414     6706  3.132251    52767  3.144162   \n",
       "99979       99979     4158  3.438086    80203  3.498163    15840  3.395739   \n",
       "99980       99980    37823  2.707923    17093  2.752345    76246  2.732174   \n",
       "99981       99981    49495  2.584986    85651  2.549535    23890  2.606401   \n",
       "99982       99982    95482  2.259774    68206  2.374780    40541  2.292413   \n",
       "\n",
       "       order-3    pplx-3  \n",
       "0        33563  2.528624  \n",
       "1        33461  2.510631  \n",
       "2         9194  2.875371  \n",
       "3        96441  2.270635  \n",
       "4        50879  2.615653  \n",
       "...        ...       ...  \n",
       "99978    48050  3.236818  \n",
       "99979     9042  3.468969  \n",
       "99980    77703  2.759684  \n",
       "99981    36445  2.517845  \n",
       "99982    91521  2.277551  \n",
       "\n",
       "[99983 rows x 9 columns]"
      ]
     },
     "execution_count": 5,
     "metadata": {},
     "output_type": "execute_result"
    }
   ],
   "source": [
    "df"
   ]
  },
  {
   "cell_type": "code",
   "execution_count": 6,
   "id": "a96acb45-2a52-4c9e-98ff-982873c0da69",
   "metadata": {},
   "outputs": [],
   "source": [
    "# Using model 4 as the reference"
   ]
  },
  {
   "cell_type": "code",
   "execution_count": 19,
   "id": "73bf298f-1aff-4744-b453-ab3637d253b1",
   "metadata": {},
   "outputs": [
    {
     "data": {
      "text/plain": [
       "2.075170680384351e-87"
      ]
     },
     "execution_count": 19,
     "metadata": {},
     "output_type": "execute_result"
    }
   ],
   "source": [
    "scipy.stats.spearmanr(np.argsort(df[f'order-{0}'])[:10000], df[f'pplx-{0}'][:10000] - df[f'pplx-{3}'][:10000])[1]"
   ]
  },
  {
   "cell_type": "code",
   "execution_count": 23,
   "id": "a46d8634-21e6-44b4-81f1-adfef425b676",
   "metadata": {},
   "outputs": [
    {
     "name": "stdout",
     "output_type": "stream",
     "text": [
      "0.10433806090957184\n",
      "0.7065278213843637\n",
      "0.5377533115064965\n",
      "0.4275537617653944\n",
      "0.6128127033495724\n",
      "0.071332405594823\n",
      "0.4028065221607594\n",
      "0.7614985774939236\n"
     ]
    }
   ],
   "source": [
    "for i in range(8):\n",
    "    print(scipy.stats.spearmanr(np.arange(10000), df[f'pplx-{0}'][10000*i:10000*(i+1)])[1])"
   ]
  },
  {
   "cell_type": "code",
   "execution_count": 17,
   "id": "0924dc65-d001-41c3-8444-8a3b81a1a118",
   "metadata": {},
   "outputs": [
    {
     "data": {
      "text/plain": [
       "0.0025536674466633442"
      ]
     },
     "execution_count": 17,
     "metadata": {},
     "output_type": "execute_result"
    }
   ],
   "source": [
    "scipy.stats.spearmanr(np.argsort(df[f'order-{0}'])[:10000], df[f'pplx-{0}'][:10000])[1]"
   ]
  },
  {
   "cell_type": "code",
   "execution_count": null,
   "id": "4d5e8e4e-3c6c-418e-aa77-56abdac547ec",
   "metadata": {},
   "outputs": [],
   "source": []
  }
 ],
 "metadata": {
  "kernelspec": {
   "display_name": "Python 3 (ipykernel)",
   "language": "python",
   "name": "python3"
  },
  "language_info": {
   "codemirror_mode": {
    "name": "ipython",
    "version": 3
   },
   "file_extension": ".py",
   "mimetype": "text/x-python",
   "name": "python",
   "nbconvert_exporter": "python",
   "pygments_lexer": "ipython3",
   "version": "3.11.7"
  }
 },
 "nbformat": 4,
 "nbformat_minor": 5
}
